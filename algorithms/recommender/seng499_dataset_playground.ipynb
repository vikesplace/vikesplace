{
  "cells": [
    {
      "cell_type": "markdown",
      "source": [
        "# Install Dependencies"
      ],
      "metadata": {
        "id": "wrqHqPMW7ZO8"
      }
    },
    {
      "cell_type": "code",
      "execution_count": 1,
      "metadata": {
        "id": "kY125xr1dEPL",
        "colab": {
          "base_uri": "https://localhost:8080/"
        },
        "outputId": "5cc7a58a-ff00-4007-803d-201425899ef1"
      },
      "outputs": [
        {
          "output_type": "stream",
          "name": "stdout",
          "text": [
            "\u001b[2K     \u001b[90m━━━━━━━━━━━━━━━━━━━━━━━━━━━━━━━━━━━━━━━━\u001b[0m \u001b[32m547.8/547.8 kB\u001b[0m \u001b[31m3.0 MB/s\u001b[0m eta \u001b[36m0:00:00\u001b[0m\n",
            "\u001b[2K     \u001b[90m━━━━━━━━━━━━━━━━━━━━━━━━━━━━━━━━━━━━━━━━\u001b[0m \u001b[32m39.9/39.9 MB\u001b[0m \u001b[31m7.9 MB/s\u001b[0m eta \u001b[36m0:00:00\u001b[0m\n",
            "\u001b[2K     \u001b[90m━━━━━━━━━━━━━━━━━━━━━━━━━━━━━━━━━━━━━━━━\u001b[0m \u001b[32m116.3/116.3 kB\u001b[0m \u001b[31m5.8 MB/s\u001b[0m eta \u001b[36m0:00:00\u001b[0m\n",
            "\u001b[2K     \u001b[90m━━━━━━━━━━━━━━━━━━━━━━━━━━━━━━━━━━━━━━━━\u001b[0m \u001b[32m64.9/64.9 kB\u001b[0m \u001b[31m1.5 MB/s\u001b[0m eta \u001b[36m0:00:00\u001b[0m\n",
            "\u001b[2K     \u001b[90m━━━━━━━━━━━━━━━━━━━━━━━━━━━━━━━━━━━━━━━━\u001b[0m \u001b[32m194.1/194.1 kB\u001b[0m \u001b[31m4.2 MB/s\u001b[0m eta \u001b[36m0:00:00\u001b[0m\n",
            "\u001b[2K     \u001b[90m━━━━━━━━━━━━━━━━━━━━━━━━━━━━━━━━━━━━━━━━\u001b[0m \u001b[32m134.8/134.8 kB\u001b[0m \u001b[31m7.9 MB/s\u001b[0m eta \u001b[36m0:00:00\u001b[0m\n",
            "\u001b[?25h\u001b[31mERROR: pip's dependency resolver does not currently take into account all the packages that are installed. This behaviour is the source of the following dependency conflicts.\n",
            "cudf-cu12 24.4.1 requires pyarrow<15.0.0a0,>=14.0.1, but you have pyarrow 17.0.0 which is incompatible.\n",
            "google-colab 1.0.0 requires requests==2.31.0, but you have requests 2.32.3 which is incompatible.\n",
            "ibis-framework 8.0.0 requires pyarrow<16,>=2, but you have pyarrow 17.0.0 which is incompatible.\u001b[0m\u001b[31m\n",
            "\u001b[2K     \u001b[90m━━━━━━━━━━━━━━━━━━━━━━━━━━━━━━━━━━━━━━━━\u001b[0m \u001b[32m235.5/235.5 kB\u001b[0m \u001b[31m1.7 MB/s\u001b[0m eta \u001b[36m0:00:00\u001b[0m\n",
            "\u001b[?25h"
          ]
        }
      ],
      "source": [
        "!pip -q install datasets\n",
        "!pip -q install unidecode\n",
        "!pip -q install pandas pyarrow"
      ]
    },
    {
      "cell_type": "code",
      "source": [
        "!wget -qq https://github.com/amazon-science/esci-data/raw/main/shopping_queries_dataset/shopping_queries_dataset_examples.parquet\n",
        "# !wget https://github.com/amazon-science/esci-data/raw/main/shopping_queries_dataset/shopping_queries_dataset_products.parquet"
      ],
      "metadata": {
        "id": "lBXAl7WpUm-j"
      },
      "execution_count": null,
      "outputs": []
    },
    {
      "cell_type": "code",
      "source": [
        "import datasets\n",
        "from unidecode import unidecode\n",
        "import csv\n",
        "import datetime\n",
        "import pandas as pd\n",
        "\n",
        "datasets.logging.set_verbosity_error()"
      ],
      "metadata": {
        "id": "qcEU75_Gw2cX"
      },
      "execution_count": 2,
      "outputs": []
    },
    {
      "cell_type": "markdown",
      "source": [
        "# Simple POC"
      ],
      "metadata": {
        "id": "U4uGE5uE7cEN"
      }
    },
    {
      "cell_type": "code",
      "source": [
        "dataset = datasets.load_dataset(\n",
        "    \"McAuley-Lab/Amazon-Reviews-2023\",\n",
        "    f\"raw_meta_CDs_and_Vinyl\",\n",
        "    split='full',\n",
        "    streaming=True,\n",
        "    trust_remote_code=True,\n",
        ")"
      ],
      "metadata": {
        "id": "gORH5EbQ99hN"
      },
      "execution_count": null,
      "outputs": []
    },
    {
      "cell_type": "code",
      "source": [
        "a = dataset.filter(lambda x: x['title'] not in (None, \"\", \"None\") and len(x['title']) <= 100)\n",
        "a = a.take(10)"
      ],
      "metadata": {
        "id": "lReqh22-VJV6"
      },
      "execution_count": null,
      "outputs": []
    },
    {
      "cell_type": "code",
      "source": [
        "for idx, i in enumerate(a):\n",
        "    print(len(i['title']), '\\t', i['title'])"
      ],
      "metadata": {
        "colab": {
          "base_uri": "https://localhost:8080/"
        },
        "id": "YtnfW5f8anmk",
        "outputId": "eb19dcba-8d1a-44ee-fc38-e9f3c9f6c19a"
      },
      "execution_count": null,
      "outputs": [
        {
          "output_type": "stream",
          "name": "stdout",
          "text": [
            "20 \t Release Some Tension\n",
            "9 \t Rio Angie\n",
            "12 \t Lost in Love\n",
            "17 \t Somewhere in Time\n",
            "15 \t Kimmon Waldruff\n",
            "17 \t Made in Argentina\n",
            "24 \t Heavy Hearts, Hard Fists\n",
            "42 \t Johnny Hodges With Lawrence Welk Orchestra\n",
            "12 \t Song Painter\n",
            "32 \t Froberger: Works For Harpsichord\n"
          ]
        }
      ]
    },
    {
      "cell_type": "code",
      "source": [
        "import random\n",
        "\n",
        "postalcodes = [r for r in csv.reader(open('postcodes.csv'))]\n",
        "random_postalcode = random.choice(postalcodes)\n",
        "LATITUDE = random_postalcode[-2]\n",
        "LONGITUDE = random_postalcode[-1]\n",
        "POSTAL_CODE = random_postalcode[0]\n",
        "\n",
        "print(random_postalcode, float(LATITUDE), float(LONGITUDE), POSTAL_CODE)"
      ],
      "metadata": {
        "colab": {
          "base_uri": "https://localhost:8080/"
        },
        "id": "xlRh5Y1lxLou",
        "outputId": "67d146f6-d02c-4ead-90dd-ad5eee34785f"
      },
      "execution_count": null,
      "outputs": [
        {
          "output_type": "stream",
          "name": "stdout",
          "text": [
            "['V8R3V1', 'VICTORIA', 'BC', '8', '48.439395', '-123.343512'] 48.439395 -123.343512 V8R3V1\n"
          ]
        }
      ]
    },
    {
      "cell_type": "markdown",
      "source": [
        "# Write `query.csv`"
      ],
      "metadata": {
        "id": "vDYTlGkPar-N"
      }
    },
    {
      "cell_type": "code",
      "source": [
        "import pandas as pd\n",
        "\n",
        "# Read the Parquet file\n",
        "df = pd.read_parquet('./shopping_queries_dataset_examples.parquet')\n",
        "\n",
        "# Display the first few rows\n",
        "print(df.head())"
      ],
      "metadata": {
        "colab": {
          "base_uri": "https://localhost:8080/"
        },
        "id": "-eVgHwyHU3vH",
        "outputId": "71158637-480e-4e6a-d7a9-1e38df86af46"
      },
      "execution_count": null,
      "outputs": [
        {
          "output_type": "stream",
          "name": "stdout",
          "text": [
            "   example_id           query  query_id  product_id product_locale esci_label  \\\n",
            "0           0   revent 80 cfm         0  B000MOO21W             us          I   \n",
            "1           1   revent 80 cfm         0  B07X3Y6B1V             us          E   \n",
            "2           2   revent 80 cfm         0  B07WDM7MQQ             us          E   \n",
            "3           3   revent 80 cfm         0  B07RH6Z8KW             us          E   \n",
            "4           4   revent 80 cfm         0  B07QJ7WYFQ             us          E   \n",
            "\n",
            "   small_version  large_version  split  \n",
            "0              0              1  train  \n",
            "1              0              1  train  \n",
            "2              0              1  train  \n",
            "3              0              1  train  \n",
            "4              0              1  train  \n"
          ]
        }
      ]
    },
    {
      "cell_type": "code",
      "source": [
        "print(df.columns)"
      ],
      "metadata": {
        "colab": {
          "base_uri": "https://localhost:8080/"
        },
        "id": "jSUguyI1WRUI",
        "outputId": "77f10267-c4e6-4155-d678-391a07dd8359"
      },
      "execution_count": null,
      "outputs": [
        {
          "output_type": "stream",
          "name": "stdout",
          "text": [
            "Index(['example_id', 'query', 'query_id', 'product_id', 'product_locale',\n",
            "       'esci_label', 'small_version', 'large_version', 'split'],\n",
            "      dtype='object')\n"
          ]
        }
      ]
    },
    {
      "cell_type": "code",
      "source": [
        "locale_us = df.loc[df['product_locale'] == 'us']\n",
        "unique_query = locale_us['query'].unique()\n",
        "\n",
        "FIELDS = ['query']\n",
        "\n",
        "csv_file = open('./query.csv', 'w+')\n",
        "writer = csv.DictWriter(csv_file, fieldnames=FIELDS)\n",
        "writer.writeheader()\n",
        "\n",
        "for q in unique_query:\n",
        "    writer.writerows([{'query': f'{unidecode(q)}'}])\n",
        "\n",
        "csv_file.close()"
      ],
      "metadata": {
        "id": "ldYw2nX4XdvB"
      },
      "execution_count": null,
      "outputs": []
    },
    {
      "cell_type": "markdown",
      "source": [
        "# Write `listings.csv`"
      ],
      "metadata": {
        "id": "zDauBZSYsKWq"
      }
    },
    {
      "cell_type": "code",
      "execution_count": 4,
      "metadata": {
        "colab": {
          "base_uri": "https://localhost:8080/",
          "height": 879,
          "referenced_widgets": [
            "d1611fdab17c405289422074e212f86e",
            "649d75ae296348359e5ba3cab64759e5",
            "beadd008dff1488cbde984762bc5b4da",
            "1b6bde92bd634e40b28dcf2b57419c2a",
            "a94c5637d5ec48958e2ccd01bfb6bd7d",
            "a453f45ad20c46e5b4f1b833f2ed0f66",
            "7f2c21b81db6470ca49ed17e0cdd23cc",
            "ad7fa41c40264f39b837f7c2b6b202d7",
            "c5b4b39258df4e6d894e58f5b7c30694",
            "4fa15251a83f4fe69e9eb79ed086756c",
            "bc7163df8b0343b3b6a90f8c79938e02",
            "88572dacb652483a9c9a319122decd9e",
            "bddfa62a3c9641c4ad28a76d7120409a",
            "a5af2a913b6143c78d905821d2106e30",
            "302ba6edf2914da39dad90d82bd11315",
            "2a630ea38a6b4d8f8303967fda2808ee",
            "2eda2de3235540aa83e3f53b602a2ee7",
            "619f21e55a2d48238006ce0a6447efed",
            "46980298f3444b52a3275bb0f3462bd2",
            "eaaeebca52a845d6a7dc814839a5b7ae",
            "54189472661d48e895a45b3c55b31427",
            "5f5d70a86eb44a8bbe4929d431c7a441"
          ]
        },
        "id": "n4VDIveLd4eq",
        "outputId": "496e7ac7-ff48-4370-f607-8b7834e158d3"
      },
      "outputs": [
        {
          "output_type": "stream",
          "name": "stderr",
          "text": [
            "/usr/local/lib/python3.10/dist-packages/huggingface_hub/utils/_token.py:89: UserWarning: \n",
            "The secret `HF_TOKEN` does not exist in your Colab secrets.\n",
            "To authenticate with the Hugging Face Hub, create a token in your settings tab (https://huggingface.co/settings/tokens), set it as secret in your Google Colab and restart your session.\n",
            "You will be able to reuse this secret in all of your notebooks.\n",
            "Please note that authentication is recommended but still optional to access public models or datasets.\n",
            "  warnings.warn(\n"
          ]
        },
        {
          "output_type": "display_data",
          "data": {
            "text/plain": [
              "Downloading builder script:   0%|          | 0.00/39.6k [00:00<?, ?B/s]"
            ],
            "application/vnd.jupyter.widget-view+json": {
              "version_major": 2,
              "version_minor": 0,
              "model_id": "d1611fdab17c405289422074e212f86e"
            }
          },
          "metadata": {}
        },
        {
          "output_type": "display_data",
          "data": {
            "text/plain": [
              "Downloading readme:   0%|          | 0.00/19.7k [00:00<?, ?B/s]"
            ],
            "application/vnd.jupyter.widget-view+json": {
              "version_major": 2,
              "version_minor": 0,
              "model_id": "88572dacb652483a9c9a319122decd9e"
            }
          },
          "metadata": {}
        },
        {
          "output_type": "stream",
          "name": "stdout",
          "text": [
            "Writing [Amazon_Fashion]...\n",
            "\n",
            "Writing [Appliances]...\n",
            "\n",
            "Writing [Arts_Crafts_and_Sewing]...\n",
            "\n",
            "Writing [Automotive]...\n",
            "\n",
            "Writing [CDs_and_Vinyl]...\n",
            "\n",
            "Writing [Cell_Phones_and_Accessories]...\n",
            "\n",
            "Writing [Clothing_Shoes_and_Jewelry]...\n",
            "\n",
            "Writing [Electronics]...\n",
            "\n",
            "Writing [Gift_Cards]...\n",
            "\n",
            "Writing [Handmade_Products]...\n",
            "\n",
            "Writing [Health_and_Household]...\n",
            "\n",
            "Writing [Home_and_Kitchen]...\n",
            "\n",
            "Writing [Industrial_and_Scientific]...\n",
            "\n",
            "Writing [Musical_Instruments]...\n",
            "\n",
            "Writing [Office_Products]...\n",
            "\n",
            "Writing [Patio_Lawn_and_Garden]...\n",
            "\n",
            "Writing [Sports_and_Outdoors]...\n",
            "\n",
            "Writing [Tools_and_Home_Improvement]...\n",
            "\n",
            "Writing [Toys_and_Games]...\n",
            "\n",
            "Writing [Video_Games]...\n",
            "\n"
          ]
        }
      ],
      "source": [
        "# from random import randrange\n",
        "import random\n",
        "\n",
        "# Number of records per category.\n",
        "NUM_RECORDS = 15_000\n",
        "\n",
        "# Constants\n",
        "FIELDS = ['seller_id', 'title', 'price', 'latitude', 'longitude', 'postal_code', 'status', 'listed_at', 'last_updated_at', 'category']\n",
        "STATUS = 'AVAILABLE'\n",
        "TIMESTAMP=datetime.datetime(2024, 7, 20)\n",
        "\n",
        "postalcodes = [r for r in csv.reader(open('postcodes.csv'))]\n",
        "\n",
        "# from https://huggingface.co/datasets/McAuley-Lab/Amazon-Reviews-2023/tree/main/raw/meta_categories\n",
        "categories = [\n",
        "    'Amazon_Fashion',\n",
        "    'Appliances',\n",
        "    'Arts_Crafts_and_Sewing',\n",
        "    'Automotive',\n",
        "    'CDs_and_Vinyl',\n",
        "    'Cell_Phones_and_Accessories',\n",
        "    'Clothing_Shoes_and_Jewelry',\n",
        "    'Electronics',\n",
        "    'Gift_Cards',\n",
        "    'Handmade_Products',\n",
        "    'Health_and_Household',\n",
        "    'Home_and_Kitchen',\n",
        "    'Industrial_and_Scientific',\n",
        "    'Musical_Instruments',\n",
        "    'Office_Products',\n",
        "    'Patio_Lawn_and_Garden',\n",
        "    'Sports_and_Outdoors',\n",
        "    'Tools_and_Home_Improvement',\n",
        "    'Toys_and_Games',\n",
        "    'Video_Games'\n",
        "]\n",
        "\n",
        "# Create csv file - this will overwrite existing files.\n",
        "csv_file = open('./listings.csv', 'w+')\n",
        "\n",
        "writer = csv.DictWriter(csv_file, fieldnames=FIELDS)\n",
        "writer.writeheader()\n",
        "\n",
        "for category in categories:\n",
        "\n",
        "    # stream dataset\n",
        "    dataset = datasets.load_dataset(\n",
        "        \"McAuley-Lab/Amazon-Reviews-2023\",\n",
        "        f\"raw_meta_{category}\",\n",
        "        split=\"full\",\n",
        "        trust_remote_code=True,\n",
        "        streaming=True\n",
        "    )\n",
        "\n",
        "    dataset = dataset.filter(lambda x: x['title'] not in (None, '', 'None') \\\n",
        "                             and len(unidecode(x['title'])) <= 100 \\\n",
        "                             and x['main_category'] not in (None, '', 'None'))\n",
        "    dataset = dataset.take(NUM_RECORDS)\n",
        "\n",
        "    print(f\"Writing [{category}]...\\n\")\n",
        "    for i, item in enumerate(dataset):\n",
        "\n",
        "        random_postalcode = random.choice(postalcodes)\n",
        "        LATITUDE = random_postalcode[-2]\n",
        "        LONGITUDE = random_postalcode[-1]\n",
        "        POSTAL_CODE = random_postalcode[0]\n",
        "\n",
        "        try:\n",
        "            item['price'] = float(item['price'])\n",
        "            LATITUDE = float(LATITUDE)\n",
        "            LONGITUDE = float(LONGITUDE)\n",
        "        except:\n",
        "            item['price'] = 499.03\n",
        "            LATITUDE = 48.444051\n",
        "            LONGITUDE = -123.338038\n",
        "            POSTAL_CODE = 'V8T2C5'\n",
        "\n",
        "        row = [{\n",
        "                'seller_id': random.randrange(1, 4021),\n",
        "                'title': unidecode(item['title']),\n",
        "                'price': item['price'],\n",
        "                'latitude': LATITUDE,\n",
        "                'longitude': LONGITUDE,\n",
        "                'postal_code': POSTAL_CODE,\n",
        "                'status': STATUS,\n",
        "                'listed_at': TIMESTAMP,\n",
        "                'last_updated_at': TIMESTAMP,\n",
        "                'category': item['main_category']\n",
        "            }]\n",
        "\n",
        "        writer.writerows(row)\n",
        "csv_file.close()"
      ]
    },
    {
      "cell_type": "markdown",
      "source": [
        "# Download file"
      ],
      "metadata": {
        "id": "hdMSywQG7lQl"
      }
    },
    {
      "cell_type": "code",
      "source": [
        "from google.colab import files\n",
        "\n",
        "files.download('listings.csv')\n",
        "# files.download('query.csv')"
      ],
      "metadata": {
        "colab": {
          "base_uri": "https://localhost:8080/",
          "height": 17
        },
        "id": "SI_ksEzqndIu",
        "outputId": "d5257c25-64de-4f30-c94d-08a0665711a5"
      },
      "execution_count": 5,
      "outputs": [
        {
          "output_type": "display_data",
          "data": {
            "text/plain": [
              "<IPython.core.display.Javascript object>"
            ],
            "application/javascript": [
              "\n",
              "    async function download(id, filename, size) {\n",
              "      if (!google.colab.kernel.accessAllowed) {\n",
              "        return;\n",
              "      }\n",
              "      const div = document.createElement('div');\n",
              "      const label = document.createElement('label');\n",
              "      label.textContent = `Downloading \"${filename}\": `;\n",
              "      div.appendChild(label);\n",
              "      const progress = document.createElement('progress');\n",
              "      progress.max = size;\n",
              "      div.appendChild(progress);\n",
              "      document.body.appendChild(div);\n",
              "\n",
              "      const buffers = [];\n",
              "      let downloaded = 0;\n",
              "\n",
              "      const channel = await google.colab.kernel.comms.open(id);\n",
              "      // Send a message to notify the kernel that we're ready.\n",
              "      channel.send({})\n",
              "\n",
              "      for await (const message of channel.messages) {\n",
              "        // Send a message to notify the kernel that we're ready.\n",
              "        channel.send({})\n",
              "        if (message.buffers) {\n",
              "          for (const buffer of message.buffers) {\n",
              "            buffers.push(buffer);\n",
              "            downloaded += buffer.byteLength;\n",
              "            progress.value = downloaded;\n",
              "          }\n",
              "        }\n",
              "      }\n",
              "      const blob = new Blob(buffers, {type: 'application/binary'});\n",
              "      const a = document.createElement('a');\n",
              "      a.href = window.URL.createObjectURL(blob);\n",
              "      a.download = filename;\n",
              "      div.appendChild(a);\n",
              "      a.click();\n",
              "      div.remove();\n",
              "    }\n",
              "  "
            ]
          },
          "metadata": {}
        },
        {
          "output_type": "display_data",
          "data": {
            "text/plain": [
              "<IPython.core.display.Javascript object>"
            ],
            "application/javascript": [
              "download(\"download_9cd2f371-ae7c-40ea-9f4d-e4727f53ba7d\", \"listings.csv\", 48849268)"
            ]
          },
          "metadata": {}
        }
      ]
    }
  ],
  "metadata": {
    "colab": {
      "provenance": []
    },
    "kernelspec": {
      "display_name": "Python 3",
      "name": "python3"
    },
    "language_info": {
      "name": "python"
    },
    "widgets": {
      "application/vnd.jupyter.widget-state+json": {
        "d1611fdab17c405289422074e212f86e": {
          "model_module": "@jupyter-widgets/controls",
          "model_name": "HBoxModel",
          "model_module_version": "1.5.0",
          "state": {
            "_dom_classes": [],
            "_model_module": "@jupyter-widgets/controls",
            "_model_module_version": "1.5.0",
            "_model_name": "HBoxModel",
            "_view_count": null,
            "_view_module": "@jupyter-widgets/controls",
            "_view_module_version": "1.5.0",
            "_view_name": "HBoxView",
            "box_style": "",
            "children": [
              "IPY_MODEL_649d75ae296348359e5ba3cab64759e5",
              "IPY_MODEL_beadd008dff1488cbde984762bc5b4da",
              "IPY_MODEL_1b6bde92bd634e40b28dcf2b57419c2a"
            ],
            "layout": "IPY_MODEL_a94c5637d5ec48958e2ccd01bfb6bd7d"
          }
        },
        "649d75ae296348359e5ba3cab64759e5": {
          "model_module": "@jupyter-widgets/controls",
          "model_name": "HTMLModel",
          "model_module_version": "1.5.0",
          "state": {
            "_dom_classes": [],
            "_model_module": "@jupyter-widgets/controls",
            "_model_module_version": "1.5.0",
            "_model_name": "HTMLModel",
            "_view_count": null,
            "_view_module": "@jupyter-widgets/controls",
            "_view_module_version": "1.5.0",
            "_view_name": "HTMLView",
            "description": "",
            "description_tooltip": null,
            "layout": "IPY_MODEL_a453f45ad20c46e5b4f1b833f2ed0f66",
            "placeholder": "​",
            "style": "IPY_MODEL_7f2c21b81db6470ca49ed17e0cdd23cc",
            "value": "Downloading builder script: 100%"
          }
        },
        "beadd008dff1488cbde984762bc5b4da": {
          "model_module": "@jupyter-widgets/controls",
          "model_name": "FloatProgressModel",
          "model_module_version": "1.5.0",
          "state": {
            "_dom_classes": [],
            "_model_module": "@jupyter-widgets/controls",
            "_model_module_version": "1.5.0",
            "_model_name": "FloatProgressModel",
            "_view_count": null,
            "_view_module": "@jupyter-widgets/controls",
            "_view_module_version": "1.5.0",
            "_view_name": "ProgressView",
            "bar_style": "success",
            "description": "",
            "description_tooltip": null,
            "layout": "IPY_MODEL_ad7fa41c40264f39b837f7c2b6b202d7",
            "max": 39620,
            "min": 0,
            "orientation": "horizontal",
            "style": "IPY_MODEL_c5b4b39258df4e6d894e58f5b7c30694",
            "value": 39620
          }
        },
        "1b6bde92bd634e40b28dcf2b57419c2a": {
          "model_module": "@jupyter-widgets/controls",
          "model_name": "HTMLModel",
          "model_module_version": "1.5.0",
          "state": {
            "_dom_classes": [],
            "_model_module": "@jupyter-widgets/controls",
            "_model_module_version": "1.5.0",
            "_model_name": "HTMLModel",
            "_view_count": null,
            "_view_module": "@jupyter-widgets/controls",
            "_view_module_version": "1.5.0",
            "_view_name": "HTMLView",
            "description": "",
            "description_tooltip": null,
            "layout": "IPY_MODEL_4fa15251a83f4fe69e9eb79ed086756c",
            "placeholder": "​",
            "style": "IPY_MODEL_bc7163df8b0343b3b6a90f8c79938e02",
            "value": " 39.6k/39.6k [00:00&lt;00:00, 1.58MB/s]"
          }
        },
        "a94c5637d5ec48958e2ccd01bfb6bd7d": {
          "model_module": "@jupyter-widgets/base",
          "model_name": "LayoutModel",
          "model_module_version": "1.2.0",
          "state": {
            "_model_module": "@jupyter-widgets/base",
            "_model_module_version": "1.2.0",
            "_model_name": "LayoutModel",
            "_view_count": null,
            "_view_module": "@jupyter-widgets/base",
            "_view_module_version": "1.2.0",
            "_view_name": "LayoutView",
            "align_content": null,
            "align_items": null,
            "align_self": null,
            "border": null,
            "bottom": null,
            "display": null,
            "flex": null,
            "flex_flow": null,
            "grid_area": null,
            "grid_auto_columns": null,
            "grid_auto_flow": null,
            "grid_auto_rows": null,
            "grid_column": null,
            "grid_gap": null,
            "grid_row": null,
            "grid_template_areas": null,
            "grid_template_columns": null,
            "grid_template_rows": null,
            "height": null,
            "justify_content": null,
            "justify_items": null,
            "left": null,
            "margin": null,
            "max_height": null,
            "max_width": null,
            "min_height": null,
            "min_width": null,
            "object_fit": null,
            "object_position": null,
            "order": null,
            "overflow": null,
            "overflow_x": null,
            "overflow_y": null,
            "padding": null,
            "right": null,
            "top": null,
            "visibility": null,
            "width": null
          }
        },
        "a453f45ad20c46e5b4f1b833f2ed0f66": {
          "model_module": "@jupyter-widgets/base",
          "model_name": "LayoutModel",
          "model_module_version": "1.2.0",
          "state": {
            "_model_module": "@jupyter-widgets/base",
            "_model_module_version": "1.2.0",
            "_model_name": "LayoutModel",
            "_view_count": null,
            "_view_module": "@jupyter-widgets/base",
            "_view_module_version": "1.2.0",
            "_view_name": "LayoutView",
            "align_content": null,
            "align_items": null,
            "align_self": null,
            "border": null,
            "bottom": null,
            "display": null,
            "flex": null,
            "flex_flow": null,
            "grid_area": null,
            "grid_auto_columns": null,
            "grid_auto_flow": null,
            "grid_auto_rows": null,
            "grid_column": null,
            "grid_gap": null,
            "grid_row": null,
            "grid_template_areas": null,
            "grid_template_columns": null,
            "grid_template_rows": null,
            "height": null,
            "justify_content": null,
            "justify_items": null,
            "left": null,
            "margin": null,
            "max_height": null,
            "max_width": null,
            "min_height": null,
            "min_width": null,
            "object_fit": null,
            "object_position": null,
            "order": null,
            "overflow": null,
            "overflow_x": null,
            "overflow_y": null,
            "padding": null,
            "right": null,
            "top": null,
            "visibility": null,
            "width": null
          }
        },
        "7f2c21b81db6470ca49ed17e0cdd23cc": {
          "model_module": "@jupyter-widgets/controls",
          "model_name": "DescriptionStyleModel",
          "model_module_version": "1.5.0",
          "state": {
            "_model_module": "@jupyter-widgets/controls",
            "_model_module_version": "1.5.0",
            "_model_name": "DescriptionStyleModel",
            "_view_count": null,
            "_view_module": "@jupyter-widgets/base",
            "_view_module_version": "1.2.0",
            "_view_name": "StyleView",
            "description_width": ""
          }
        },
        "ad7fa41c40264f39b837f7c2b6b202d7": {
          "model_module": "@jupyter-widgets/base",
          "model_name": "LayoutModel",
          "model_module_version": "1.2.0",
          "state": {
            "_model_module": "@jupyter-widgets/base",
            "_model_module_version": "1.2.0",
            "_model_name": "LayoutModel",
            "_view_count": null,
            "_view_module": "@jupyter-widgets/base",
            "_view_module_version": "1.2.0",
            "_view_name": "LayoutView",
            "align_content": null,
            "align_items": null,
            "align_self": null,
            "border": null,
            "bottom": null,
            "display": null,
            "flex": null,
            "flex_flow": null,
            "grid_area": null,
            "grid_auto_columns": null,
            "grid_auto_flow": null,
            "grid_auto_rows": null,
            "grid_column": null,
            "grid_gap": null,
            "grid_row": null,
            "grid_template_areas": null,
            "grid_template_columns": null,
            "grid_template_rows": null,
            "height": null,
            "justify_content": null,
            "justify_items": null,
            "left": null,
            "margin": null,
            "max_height": null,
            "max_width": null,
            "min_height": null,
            "min_width": null,
            "object_fit": null,
            "object_position": null,
            "order": null,
            "overflow": null,
            "overflow_x": null,
            "overflow_y": null,
            "padding": null,
            "right": null,
            "top": null,
            "visibility": null,
            "width": null
          }
        },
        "c5b4b39258df4e6d894e58f5b7c30694": {
          "model_module": "@jupyter-widgets/controls",
          "model_name": "ProgressStyleModel",
          "model_module_version": "1.5.0",
          "state": {
            "_model_module": "@jupyter-widgets/controls",
            "_model_module_version": "1.5.0",
            "_model_name": "ProgressStyleModel",
            "_view_count": null,
            "_view_module": "@jupyter-widgets/base",
            "_view_module_version": "1.2.0",
            "_view_name": "StyleView",
            "bar_color": null,
            "description_width": ""
          }
        },
        "4fa15251a83f4fe69e9eb79ed086756c": {
          "model_module": "@jupyter-widgets/base",
          "model_name": "LayoutModel",
          "model_module_version": "1.2.0",
          "state": {
            "_model_module": "@jupyter-widgets/base",
            "_model_module_version": "1.2.0",
            "_model_name": "LayoutModel",
            "_view_count": null,
            "_view_module": "@jupyter-widgets/base",
            "_view_module_version": "1.2.0",
            "_view_name": "LayoutView",
            "align_content": null,
            "align_items": null,
            "align_self": null,
            "border": null,
            "bottom": null,
            "display": null,
            "flex": null,
            "flex_flow": null,
            "grid_area": null,
            "grid_auto_columns": null,
            "grid_auto_flow": null,
            "grid_auto_rows": null,
            "grid_column": null,
            "grid_gap": null,
            "grid_row": null,
            "grid_template_areas": null,
            "grid_template_columns": null,
            "grid_template_rows": null,
            "height": null,
            "justify_content": null,
            "justify_items": null,
            "left": null,
            "margin": null,
            "max_height": null,
            "max_width": null,
            "min_height": null,
            "min_width": null,
            "object_fit": null,
            "object_position": null,
            "order": null,
            "overflow": null,
            "overflow_x": null,
            "overflow_y": null,
            "padding": null,
            "right": null,
            "top": null,
            "visibility": null,
            "width": null
          }
        },
        "bc7163df8b0343b3b6a90f8c79938e02": {
          "model_module": "@jupyter-widgets/controls",
          "model_name": "DescriptionStyleModel",
          "model_module_version": "1.5.0",
          "state": {
            "_model_module": "@jupyter-widgets/controls",
            "_model_module_version": "1.5.0",
            "_model_name": "DescriptionStyleModel",
            "_view_count": null,
            "_view_module": "@jupyter-widgets/base",
            "_view_module_version": "1.2.0",
            "_view_name": "StyleView",
            "description_width": ""
          }
        },
        "88572dacb652483a9c9a319122decd9e": {
          "model_module": "@jupyter-widgets/controls",
          "model_name": "HBoxModel",
          "model_module_version": "1.5.0",
          "state": {
            "_dom_classes": [],
            "_model_module": "@jupyter-widgets/controls",
            "_model_module_version": "1.5.0",
            "_model_name": "HBoxModel",
            "_view_count": null,
            "_view_module": "@jupyter-widgets/controls",
            "_view_module_version": "1.5.0",
            "_view_name": "HBoxView",
            "box_style": "",
            "children": [
              "IPY_MODEL_bddfa62a3c9641c4ad28a76d7120409a",
              "IPY_MODEL_a5af2a913b6143c78d905821d2106e30",
              "IPY_MODEL_302ba6edf2914da39dad90d82bd11315"
            ],
            "layout": "IPY_MODEL_2a630ea38a6b4d8f8303967fda2808ee"
          }
        },
        "bddfa62a3c9641c4ad28a76d7120409a": {
          "model_module": "@jupyter-widgets/controls",
          "model_name": "HTMLModel",
          "model_module_version": "1.5.0",
          "state": {
            "_dom_classes": [],
            "_model_module": "@jupyter-widgets/controls",
            "_model_module_version": "1.5.0",
            "_model_name": "HTMLModel",
            "_view_count": null,
            "_view_module": "@jupyter-widgets/controls",
            "_view_module_version": "1.5.0",
            "_view_name": "HTMLView",
            "description": "",
            "description_tooltip": null,
            "layout": "IPY_MODEL_2eda2de3235540aa83e3f53b602a2ee7",
            "placeholder": "​",
            "style": "IPY_MODEL_619f21e55a2d48238006ce0a6447efed",
            "value": "Downloading readme: 100%"
          }
        },
        "a5af2a913b6143c78d905821d2106e30": {
          "model_module": "@jupyter-widgets/controls",
          "model_name": "FloatProgressModel",
          "model_module_version": "1.5.0",
          "state": {
            "_dom_classes": [],
            "_model_module": "@jupyter-widgets/controls",
            "_model_module_version": "1.5.0",
            "_model_name": "FloatProgressModel",
            "_view_count": null,
            "_view_module": "@jupyter-widgets/controls",
            "_view_module_version": "1.5.0",
            "_view_name": "ProgressView",
            "bar_style": "success",
            "description": "",
            "description_tooltip": null,
            "layout": "IPY_MODEL_46980298f3444b52a3275bb0f3462bd2",
            "max": 19737,
            "min": 0,
            "orientation": "horizontal",
            "style": "IPY_MODEL_eaaeebca52a845d6a7dc814839a5b7ae",
            "value": 19737
          }
        },
        "302ba6edf2914da39dad90d82bd11315": {
          "model_module": "@jupyter-widgets/controls",
          "model_name": "HTMLModel",
          "model_module_version": "1.5.0",
          "state": {
            "_dom_classes": [],
            "_model_module": "@jupyter-widgets/controls",
            "_model_module_version": "1.5.0",
            "_model_name": "HTMLModel",
            "_view_count": null,
            "_view_module": "@jupyter-widgets/controls",
            "_view_module_version": "1.5.0",
            "_view_name": "HTMLView",
            "description": "",
            "description_tooltip": null,
            "layout": "IPY_MODEL_54189472661d48e895a45b3c55b31427",
            "placeholder": "​",
            "style": "IPY_MODEL_5f5d70a86eb44a8bbe4929d431c7a441",
            "value": " 19.7k/19.7k [00:00&lt;00:00, 910kB/s]"
          }
        },
        "2a630ea38a6b4d8f8303967fda2808ee": {
          "model_module": "@jupyter-widgets/base",
          "model_name": "LayoutModel",
          "model_module_version": "1.2.0",
          "state": {
            "_model_module": "@jupyter-widgets/base",
            "_model_module_version": "1.2.0",
            "_model_name": "LayoutModel",
            "_view_count": null,
            "_view_module": "@jupyter-widgets/base",
            "_view_module_version": "1.2.0",
            "_view_name": "LayoutView",
            "align_content": null,
            "align_items": null,
            "align_self": null,
            "border": null,
            "bottom": null,
            "display": null,
            "flex": null,
            "flex_flow": null,
            "grid_area": null,
            "grid_auto_columns": null,
            "grid_auto_flow": null,
            "grid_auto_rows": null,
            "grid_column": null,
            "grid_gap": null,
            "grid_row": null,
            "grid_template_areas": null,
            "grid_template_columns": null,
            "grid_template_rows": null,
            "height": null,
            "justify_content": null,
            "justify_items": null,
            "left": null,
            "margin": null,
            "max_height": null,
            "max_width": null,
            "min_height": null,
            "min_width": null,
            "object_fit": null,
            "object_position": null,
            "order": null,
            "overflow": null,
            "overflow_x": null,
            "overflow_y": null,
            "padding": null,
            "right": null,
            "top": null,
            "visibility": null,
            "width": null
          }
        },
        "2eda2de3235540aa83e3f53b602a2ee7": {
          "model_module": "@jupyter-widgets/base",
          "model_name": "LayoutModel",
          "model_module_version": "1.2.0",
          "state": {
            "_model_module": "@jupyter-widgets/base",
            "_model_module_version": "1.2.0",
            "_model_name": "LayoutModel",
            "_view_count": null,
            "_view_module": "@jupyter-widgets/base",
            "_view_module_version": "1.2.0",
            "_view_name": "LayoutView",
            "align_content": null,
            "align_items": null,
            "align_self": null,
            "border": null,
            "bottom": null,
            "display": null,
            "flex": null,
            "flex_flow": null,
            "grid_area": null,
            "grid_auto_columns": null,
            "grid_auto_flow": null,
            "grid_auto_rows": null,
            "grid_column": null,
            "grid_gap": null,
            "grid_row": null,
            "grid_template_areas": null,
            "grid_template_columns": null,
            "grid_template_rows": null,
            "height": null,
            "justify_content": null,
            "justify_items": null,
            "left": null,
            "margin": null,
            "max_height": null,
            "max_width": null,
            "min_height": null,
            "min_width": null,
            "object_fit": null,
            "object_position": null,
            "order": null,
            "overflow": null,
            "overflow_x": null,
            "overflow_y": null,
            "padding": null,
            "right": null,
            "top": null,
            "visibility": null,
            "width": null
          }
        },
        "619f21e55a2d48238006ce0a6447efed": {
          "model_module": "@jupyter-widgets/controls",
          "model_name": "DescriptionStyleModel",
          "model_module_version": "1.5.0",
          "state": {
            "_model_module": "@jupyter-widgets/controls",
            "_model_module_version": "1.5.0",
            "_model_name": "DescriptionStyleModel",
            "_view_count": null,
            "_view_module": "@jupyter-widgets/base",
            "_view_module_version": "1.2.0",
            "_view_name": "StyleView",
            "description_width": ""
          }
        },
        "46980298f3444b52a3275bb0f3462bd2": {
          "model_module": "@jupyter-widgets/base",
          "model_name": "LayoutModel",
          "model_module_version": "1.2.0",
          "state": {
            "_model_module": "@jupyter-widgets/base",
            "_model_module_version": "1.2.0",
            "_model_name": "LayoutModel",
            "_view_count": null,
            "_view_module": "@jupyter-widgets/base",
            "_view_module_version": "1.2.0",
            "_view_name": "LayoutView",
            "align_content": null,
            "align_items": null,
            "align_self": null,
            "border": null,
            "bottom": null,
            "display": null,
            "flex": null,
            "flex_flow": null,
            "grid_area": null,
            "grid_auto_columns": null,
            "grid_auto_flow": null,
            "grid_auto_rows": null,
            "grid_column": null,
            "grid_gap": null,
            "grid_row": null,
            "grid_template_areas": null,
            "grid_template_columns": null,
            "grid_template_rows": null,
            "height": null,
            "justify_content": null,
            "justify_items": null,
            "left": null,
            "margin": null,
            "max_height": null,
            "max_width": null,
            "min_height": null,
            "min_width": null,
            "object_fit": null,
            "object_position": null,
            "order": null,
            "overflow": null,
            "overflow_x": null,
            "overflow_y": null,
            "padding": null,
            "right": null,
            "top": null,
            "visibility": null,
            "width": null
          }
        },
        "eaaeebca52a845d6a7dc814839a5b7ae": {
          "model_module": "@jupyter-widgets/controls",
          "model_name": "ProgressStyleModel",
          "model_module_version": "1.5.0",
          "state": {
            "_model_module": "@jupyter-widgets/controls",
            "_model_module_version": "1.5.0",
            "_model_name": "ProgressStyleModel",
            "_view_count": null,
            "_view_module": "@jupyter-widgets/base",
            "_view_module_version": "1.2.0",
            "_view_name": "StyleView",
            "bar_color": null,
            "description_width": ""
          }
        },
        "54189472661d48e895a45b3c55b31427": {
          "model_module": "@jupyter-widgets/base",
          "model_name": "LayoutModel",
          "model_module_version": "1.2.0",
          "state": {
            "_model_module": "@jupyter-widgets/base",
            "_model_module_version": "1.2.0",
            "_model_name": "LayoutModel",
            "_view_count": null,
            "_view_module": "@jupyter-widgets/base",
            "_view_module_version": "1.2.0",
            "_view_name": "LayoutView",
            "align_content": null,
            "align_items": null,
            "align_self": null,
            "border": null,
            "bottom": null,
            "display": null,
            "flex": null,
            "flex_flow": null,
            "grid_area": null,
            "grid_auto_columns": null,
            "grid_auto_flow": null,
            "grid_auto_rows": null,
            "grid_column": null,
            "grid_gap": null,
            "grid_row": null,
            "grid_template_areas": null,
            "grid_template_columns": null,
            "grid_template_rows": null,
            "height": null,
            "justify_content": null,
            "justify_items": null,
            "left": null,
            "margin": null,
            "max_height": null,
            "max_width": null,
            "min_height": null,
            "min_width": null,
            "object_fit": null,
            "object_position": null,
            "order": null,
            "overflow": null,
            "overflow_x": null,
            "overflow_y": null,
            "padding": null,
            "right": null,
            "top": null,
            "visibility": null,
            "width": null
          }
        },
        "5f5d70a86eb44a8bbe4929d431c7a441": {
          "model_module": "@jupyter-widgets/controls",
          "model_name": "DescriptionStyleModel",
          "model_module_version": "1.5.0",
          "state": {
            "_model_module": "@jupyter-widgets/controls",
            "_model_module_version": "1.5.0",
            "_model_name": "DescriptionStyleModel",
            "_view_count": null,
            "_view_module": "@jupyter-widgets/base",
            "_view_module_version": "1.2.0",
            "_view_name": "StyleView",
            "description_width": ""
          }
        }
      }
    }
  },
  "nbformat": 4,
  "nbformat_minor": 0
}