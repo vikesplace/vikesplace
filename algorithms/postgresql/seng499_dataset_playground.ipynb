{
  "cells": [
    {
      "cell_type": "markdown",
      "source": [
        "# Install Dependencies"
      ],
      "metadata": {
        "id": "wrqHqPMW7ZO8"
      }
    },
    {
      "cell_type": "code",
      "execution_count": null,
      "metadata": {
        "id": "kY125xr1dEPL",
        "colab": {
          "base_uri": "https://localhost:8080/"
        },
        "outputId": "b850acdb-6f03-496c-84c4-c284c0105b55"
      },
      "outputs": [
        {
          "output_type": "stream",
          "name": "stdout",
          "text": [
            "\u001b[2K     \u001b[90m━━━━━━━━━━━━━━━━━━━━━━━━━━━━━━━━━━━━━━━━\u001b[0m \u001b[32m547.8/547.8 kB\u001b[0m \u001b[31m3.7 MB/s\u001b[0m eta \u001b[36m0:00:00\u001b[0m\n",
            "\u001b[2K     \u001b[90m━━━━━━━━━━━━━━━━━━━━━━━━━━━━━━━━━━━━━━━━\u001b[0m \u001b[32m39.9/39.9 MB\u001b[0m \u001b[31m6.4 MB/s\u001b[0m eta \u001b[36m0:00:00\u001b[0m\n",
            "\u001b[2K     \u001b[90m━━━━━━━━━━━━━━━━━━━━━━━━━━━━━━━━━━━━━━━━\u001b[0m \u001b[32m116.3/116.3 kB\u001b[0m \u001b[31m7.0 MB/s\u001b[0m eta \u001b[36m0:00:00\u001b[0m\n",
            "\u001b[2K     \u001b[90m━━━━━━━━━━━━━━━━━━━━━━━━━━━━━━━━━━━━━━━━\u001b[0m \u001b[32m64.9/64.9 kB\u001b[0m \u001b[31m1.7 MB/s\u001b[0m eta \u001b[36m0:00:00\u001b[0m\n",
            "\u001b[2K     \u001b[90m━━━━━━━━━━━━━━━━━━━━━━━━━━━━━━━━━━━━━━━━\u001b[0m \u001b[32m194.1/194.1 kB\u001b[0m \u001b[31m9.1 MB/s\u001b[0m eta \u001b[36m0:00:00\u001b[0m\n",
            "\u001b[2K     \u001b[90m━━━━━━━━━━━━━━━━━━━━━━━━━━━━━━━━━━━━━━━━\u001b[0m \u001b[32m134.8/134.8 kB\u001b[0m \u001b[31m9.3 MB/s\u001b[0m eta \u001b[36m0:00:00\u001b[0m\n",
            "\u001b[?25h\u001b[31mERROR: pip's dependency resolver does not currently take into account all the packages that are installed. This behaviour is the source of the following dependency conflicts.\n",
            "cudf-cu12 24.4.1 requires pyarrow<15.0.0a0,>=14.0.1, but you have pyarrow 17.0.0 which is incompatible.\n",
            "google-colab 1.0.0 requires requests==2.31.0, but you have requests 2.32.3 which is incompatible.\n",
            "ibis-framework 8.0.0 requires pyarrow<16,>=2, but you have pyarrow 17.0.0 which is incompatible.\u001b[0m\u001b[31m\n",
            "\u001b[2K     \u001b[90m━━━━━━━━━━━━━━━━━━━━━━━━━━━━━━━━━━━━━━━━\u001b[0m \u001b[32m235.5/235.5 kB\u001b[0m \u001b[31m4.9 MB/s\u001b[0m eta \u001b[36m0:00:00\u001b[0m\n",
            "\u001b[?25h"
          ]
        }
      ],
      "source": [
        "!pip -q install datasets\n",
        "!pip -q install unidecode\n",
        "!pip -q install pandas pyarrow"
      ]
    },
    {
      "cell_type": "code",
      "source": [
        "!wget -qq https://github.com/amazon-science/esci-data/raw/main/shopping_queries_dataset/shopping_queries_dataset_examples.parquet\n",
        "# !wget https://github.com/amazon-science/esci-data/raw/main/shopping_queries_dataset/shopping_queries_dataset_products.parquet"
      ],
      "metadata": {
        "id": "lBXAl7WpUm-j"
      },
      "execution_count": null,
      "outputs": []
    },
    {
      "cell_type": "code",
      "source": [
        "import datasets\n",
        "from unidecode import unidecode\n",
        "import csv\n",
        "import datetime\n",
        "import pandas as pd\n",
        "\n",
        "datasets.logging.set_verbosity_error()"
      ],
      "metadata": {
        "id": "qcEU75_Gw2cX"
      },
      "execution_count": null,
      "outputs": []
    },
    {
      "cell_type": "markdown",
      "source": [
        "# Simple POC"
      ],
      "metadata": {
        "id": "U4uGE5uE7cEN"
      }
    },
    {
      "cell_type": "code",
      "source": [
        "dataset = datasets.load_dataset(\n",
        "    \"McAuley-Lab/Amazon-Reviews-2023\",\n",
        "    f\"raw_meta_CDs_and_Vinyl\",\n",
        "    split='full',\n",
        "    streaming=True,\n",
        "    trust_remote_code=True,\n",
        ")"
      ],
      "metadata": {
        "id": "gORH5EbQ99hN"
      },
      "execution_count": null,
      "outputs": []
    },
    {
      "cell_type": "code",
      "source": [
        "a = dataset.filter(lambda x: x['title'] not in (None, \"\", \"None\") and len(x['title']) <= 100)\n",
        "a = a.take(10)"
      ],
      "metadata": {
        "id": "lReqh22-VJV6"
      },
      "execution_count": null,
      "outputs": []
    },
    {
      "cell_type": "code",
      "source": [
        "for idx, i in enumerate(a):\n",
        "    print(len(i['title']), '\\t', i['title'])"
      ],
      "metadata": {
        "colab": {
          "base_uri": "https://localhost:8080/"
        },
        "id": "YtnfW5f8anmk",
        "outputId": "eb19dcba-8d1a-44ee-fc38-e9f3c9f6c19a"
      },
      "execution_count": null,
      "outputs": [
        {
          "output_type": "stream",
          "name": "stdout",
          "text": [
            "20 \t Release Some Tension\n",
            "9 \t Rio Angie\n",
            "12 \t Lost in Love\n",
            "17 \t Somewhere in Time\n",
            "15 \t Kimmon Waldruff\n",
            "17 \t Made in Argentina\n",
            "24 \t Heavy Hearts, Hard Fists\n",
            "42 \t Johnny Hodges With Lawrence Welk Orchestra\n",
            "12 \t Song Painter\n",
            "32 \t Froberger: Works For Harpsichord\n"
          ]
        }
      ]
    },
    {
      "cell_type": "markdown",
      "source": [
        "# Write `query.csv`"
      ],
      "metadata": {
        "id": "vDYTlGkPar-N"
      }
    },
    {
      "cell_type": "code",
      "source": [
        "import pandas as pd\n",
        "\n",
        "# Read the Parquet file\n",
        "df = pd.read_parquet('./shopping_queries_dataset_examples.parquet')\n",
        "\n",
        "# Display the first few rows\n",
        "print(df.head())"
      ],
      "metadata": {
        "colab": {
          "base_uri": "https://localhost:8080/"
        },
        "id": "-eVgHwyHU3vH",
        "outputId": "71158637-480e-4e6a-d7a9-1e38df86af46"
      },
      "execution_count": null,
      "outputs": [
        {
          "output_type": "stream",
          "name": "stdout",
          "text": [
            "   example_id           query  query_id  product_id product_locale esci_label  \\\n",
            "0           0   revent 80 cfm         0  B000MOO21W             us          I   \n",
            "1           1   revent 80 cfm         0  B07X3Y6B1V             us          E   \n",
            "2           2   revent 80 cfm         0  B07WDM7MQQ             us          E   \n",
            "3           3   revent 80 cfm         0  B07RH6Z8KW             us          E   \n",
            "4           4   revent 80 cfm         0  B07QJ7WYFQ             us          E   \n",
            "\n",
            "   small_version  large_version  split  \n",
            "0              0              1  train  \n",
            "1              0              1  train  \n",
            "2              0              1  train  \n",
            "3              0              1  train  \n",
            "4              0              1  train  \n"
          ]
        }
      ]
    },
    {
      "cell_type": "code",
      "source": [
        "print(df.columns)"
      ],
      "metadata": {
        "colab": {
          "base_uri": "https://localhost:8080/"
        },
        "id": "jSUguyI1WRUI",
        "outputId": "77f10267-c4e6-4155-d678-391a07dd8359"
      },
      "execution_count": null,
      "outputs": [
        {
          "output_type": "stream",
          "name": "stdout",
          "text": [
            "Index(['example_id', 'query', 'query_id', 'product_id', 'product_locale',\n",
            "       'esci_label', 'small_version', 'large_version', 'split'],\n",
            "      dtype='object')\n"
          ]
        }
      ]
    },
    {
      "cell_type": "code",
      "source": [
        "locale_us = df.loc[df['product_locale'] == 'us']\n",
        "unique_query = locale_us['query'].unique()\n",
        "\n",
        "FIELDS = ['query']\n",
        "\n",
        "csv_file = open('./query.csv', 'w+')\n",
        "writer = csv.DictWriter(csv_file, fieldnames=FIELDS)\n",
        "writer.writeheader()\n",
        "\n",
        "for q in unique_query:\n",
        "    writer.writerows([{'query': f'{unidecode(q)}'}])\n",
        "\n",
        "csv_file.close()"
      ],
      "metadata": {
        "id": "ldYw2nX4XdvB"
      },
      "execution_count": null,
      "outputs": []
    },
    {
      "cell_type": "markdown",
      "source": [
        "# Write `data.csv` - use this instead"
      ],
      "metadata": {
        "id": "zDauBZSYsKWq"
      }
    },
    {
      "cell_type": "code",
      "source": [
        "import random\n",
        "\n",
        "postalcodes = [r for r in csv.reader(open('postcodes.csv'))]\n",
        "random_postalcode = random.choice(postalcodes)\n",
        "LATITUDE = random_postalcode[-2]\n",
        "LONGITUDE = random_postalcode[-1]\n",
        "POSTAL_CODE = random_postalcode[0]\n",
        "\n",
        "print(random_postalcode, float(LATITUDE), float(LONGITUDE), POSTAL_CODE)"
      ],
      "metadata": {
        "colab": {
          "base_uri": "https://localhost:8080/"
        },
        "id": "xlRh5Y1lxLou",
        "outputId": "67d146f6-d02c-4ead-90dd-ad5eee34785f"
      },
      "execution_count": null,
      "outputs": [
        {
          "output_type": "stream",
          "name": "stdout",
          "text": [
            "['V8R3V1', 'VICTORIA', 'BC', '8', '48.439395', '-123.343512'] 48.439395 -123.343512 V8R3V1\n"
          ]
        }
      ]
    },
    {
      "cell_type": "code",
      "execution_count": 50,
      "metadata": {
        "colab": {
          "base_uri": "https://localhost:8080/"
        },
        "id": "n4VDIveLd4eq",
        "outputId": "d9550563-590c-4a8b-e74c-07d2a8969252"
      },
      "outputs": [
        {
          "output_type": "stream",
          "name": "stdout",
          "text": [
            "Writing [Amazon_Fashion]...\n",
            "\n",
            "Writing [Appliances]...\n",
            "\n",
            "Writing [Arts_Crafts_and_Sewing]...\n",
            "\n",
            "Writing [Automotive]...\n",
            "\n",
            "Writing [CDs_and_Vinyl]...\n",
            "\n",
            "Writing [Cell_Phones_and_Accessories]...\n",
            "\n",
            "Writing [Clothing_Shoes_and_Jewelry]...\n",
            "\n",
            "Writing [Electronics]...\n",
            "\n",
            "Writing [Gift_Cards]...\n",
            "\n",
            "Writing [Handmade_Products]...\n",
            "\n",
            "Writing [Health_and_Household]...\n",
            "\n",
            "Writing [Home_and_Kitchen]...\n",
            "\n",
            "Writing [Industrial_and_Scientific]...\n",
            "\n",
            "Writing [Musical_Instruments]...\n",
            "\n",
            "Writing [Office_Products]...\n",
            "\n",
            "Writing [Patio_Lawn_and_Garden]...\n",
            "\n",
            "Writing [Sports_and_Outdoors]...\n",
            "\n",
            "Writing [Tools_and_Home_Improvement]...\n",
            "\n",
            "Writing [Toys_and_Games]...\n",
            "\n",
            "Writing [Video_Games]...\n",
            "\n"
          ]
        }
      ],
      "source": [
        "# from random import randrange\n",
        "import random\n",
        "\n",
        "# Number of records per category.\n",
        "NUM_RECORDS = 15_000\n",
        "\n",
        "# Constants\n",
        "# LATITUDE = 48.378400\n",
        "# LONGITUDE = -123.415600\n",
        "# POSTAL_CODE = 'V8R6N2'\n",
        "STATUS = 'AVAILABLE'\n",
        "TIMESTAMP=datetime.datetime(2024, 7, 20)\n",
        "\n",
        "postalcodes = [r for r in csv.reader(open('postcodes.csv'))]\n",
        "\n",
        "# from https://huggingface.co/datasets/McAuley-Lab/Amazon-Reviews-2023/tree/main/raw/meta_categories\n",
        "categories = [\n",
        "    'Amazon_Fashion',\n",
        "    'Appliances',\n",
        "    'Arts_Crafts_and_Sewing',\n",
        "    'Automotive',\n",
        "    'CDs_and_Vinyl',\n",
        "    'Cell_Phones_and_Accessories',\n",
        "    'Clothing_Shoes_and_Jewelry',\n",
        "    'Electronics',\n",
        "    'Gift_Cards',\n",
        "    'Handmade_Products',\n",
        "    'Health_and_Household',\n",
        "    'Home_and_Kitchen',\n",
        "    'Industrial_and_Scientific',\n",
        "    'Musical_Instruments',\n",
        "    'Office_Products',\n",
        "    'Patio_Lawn_and_Garden',\n",
        "    'Sports_and_Outdoors',\n",
        "    'Tools_and_Home_Improvement',\n",
        "    'Toys_and_Games',\n",
        "    'Video_Games'\n",
        "]\n",
        "\n",
        "# Create csv file - this will overwrite existing files.\n",
        "csv_file = open('./listings.csv', 'w+')\n",
        "\n",
        "writer = csv.DictWriter(csv_file, fieldnames=FIELDS)\n",
        "writer.writeheader()\n",
        "\n",
        "for category in categories:\n",
        "\n",
        "    # stream dataset\n",
        "    dataset = datasets.load_dataset(\n",
        "        \"McAuley-Lab/Amazon-Reviews-2023\",\n",
        "        f\"raw_meta_{category}\",\n",
        "        split=\"full\",\n",
        "        trust_remote_code=True,\n",
        "        streaming=True\n",
        "    )\n",
        "\n",
        "    dataset = dataset.filter(lambda x: x['title'] not in (None, '', 'None') \\\n",
        "                             and len(x['title']) <= 100 \\\n",
        "                             and x['main_category'] not in (None, '', 'None'))\n",
        "    dataset = dataset.take(NUM_RECORDS)\n",
        "\n",
        "    print(f\"Writing [{category}]...\\n\")\n",
        "    for i, item in enumerate(dataset):\n",
        "\n",
        "        random_postalcode = random.choice(postalcodes)\n",
        "        LATITUDE = random_postalcode[-2]\n",
        "        LONGITUDE = random_postalcode[-1]\n",
        "        POSTAL_CODE = random_postalcode[0]\n",
        "\n",
        "        try:\n",
        "            item['price'] = float(item['price'])\n",
        "            LATITUDE = float(LATITUDE)\n",
        "            LONGITUDE = float(LONGITUDE)\n",
        "        except:\n",
        "            item['price'] = 499.03\n",
        "            LATITUDE = 48.444051\n",
        "            LONGITUDE = -123.338038\n",
        "            POSTAL_CODE = 'V8T2C5'\n",
        "\n",
        "        row = [{\n",
        "                'seller_id': random.randrange(1, 4021),\n",
        "                'title': unidecode(item['title']),\n",
        "                'price': item['price'],\n",
        "                'latitude': LATITUDE,\n",
        "                'longitude': LONGITUDE,\n",
        "                'postal_code': POSTAL_CODE,\n",
        "                'status': STATUS,\n",
        "                'listed_at': TIMESTAMP,\n",
        "                'last_updated_at': TIMESTAMP,\n",
        "                'category': item['main_category']\n",
        "            }]\n",
        "\n",
        "        writer.writerows(row)\n",
        "csv_file.close()"
      ]
    },
    {
      "cell_type": "markdown",
      "source": [
        "# Download file"
      ],
      "metadata": {
        "id": "hdMSywQG7lQl"
      }
    },
    {
      "cell_type": "code",
      "source": [
        "from google.colab import files\n",
        "\n",
        "files.download('listings.csv')\n",
        "# files.download('query.csv')"
      ],
      "metadata": {
        "colab": {
          "base_uri": "https://localhost:8080/",
          "height": 17
        },
        "id": "SI_ksEzqndIu",
        "outputId": "0ac41216-3f3f-48d9-abcd-121c4fa437d8"
      },
      "execution_count": 51,
      "outputs": [
        {
          "output_type": "display_data",
          "data": {
            "text/plain": [
              "<IPython.core.display.Javascript object>"
            ],
            "application/javascript": [
              "\n",
              "    async function download(id, filename, size) {\n",
              "      if (!google.colab.kernel.accessAllowed) {\n",
              "        return;\n",
              "      }\n",
              "      const div = document.createElement('div');\n",
              "      const label = document.createElement('label');\n",
              "      label.textContent = `Downloading \"${filename}\": `;\n",
              "      div.appendChild(label);\n",
              "      const progress = document.createElement('progress');\n",
              "      progress.max = size;\n",
              "      div.appendChild(progress);\n",
              "      document.body.appendChild(div);\n",
              "\n",
              "      const buffers = [];\n",
              "      let downloaded = 0;\n",
              "\n",
              "      const channel = await google.colab.kernel.comms.open(id);\n",
              "      // Send a message to notify the kernel that we're ready.\n",
              "      channel.send({})\n",
              "\n",
              "      for await (const message of channel.messages) {\n",
              "        // Send a message to notify the kernel that we're ready.\n",
              "        channel.send({})\n",
              "        if (message.buffers) {\n",
              "          for (const buffer of message.buffers) {\n",
              "            buffers.push(buffer);\n",
              "            downloaded += buffer.byteLength;\n",
              "            progress.value = downloaded;\n",
              "          }\n",
              "        }\n",
              "      }\n",
              "      const blob = new Blob(buffers, {type: 'application/binary'});\n",
              "      const a = document.createElement('a');\n",
              "      a.href = window.URL.createObjectURL(blob);\n",
              "      a.download = filename;\n",
              "      div.appendChild(a);\n",
              "      a.click();\n",
              "      div.remove();\n",
              "    }\n",
              "  "
            ]
          },
          "metadata": {}
        },
        {
          "output_type": "display_data",
          "data": {
            "text/plain": [
              "<IPython.core.display.Javascript object>"
            ],
            "application/javascript": [
              "download(\"download_8c315e07-867c-4ec2-812c-49ee36314c05\", \"listings.csv\", 48853990)"
            ]
          },
          "metadata": {}
        }
      ]
    }
  ],
  "metadata": {
    "colab": {
      "provenance": []
    },
    "kernelspec": {
      "display_name": "Python 3",
      "name": "python3"
    },
    "language_info": {
      "name": "python"
    }
  },
  "nbformat": 4,
  "nbformat_minor": 0
}